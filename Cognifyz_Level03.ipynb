{
 "cells": [
  {
   "cell_type": "markdown",
   "id": "720c5697-9d27-4ca6-a022-51e6c9af4e2e",
   "metadata": {},
   "source": [
    "# Level 03 Task Predictive Modeling\n"
   ]
  },
  {
   "cell_type": "code",
   "execution_count": 2,
   "id": "3cecfa8b-d1a0-4bd9-b53a-18e351872dd8",
   "metadata": {},
   "outputs": [],
   "source": [
    "# importing important libaries\n",
    "import pandas as pd\n",
    "import numpy as np\n",
    "import matplotlib.pyplot as plt\n",
    "%matplotlib inline\n",
    "import seaborn as sns\n",
    "import warnings\n",
    "warnings.filterwarnings('ignore')"
   ]
  },
  {
   "cell_type": "code",
   "execution_count": null,
   "id": "51418b00-ab3e-4ffa-8d02-5a44c18b46c7",
   "metadata": {},
   "outputs": [],
   "source": [
    "df = pd.read_csb"
   ]
  },
  {
   "cell_type": "code",
   "execution_count": null,
   "id": "58fd1b5e-d529-4568-893b-40bbc1253c5b",
   "metadata": {},
   "outputs": [],
   "source": []
  },
  {
   "cell_type": "code",
   "execution_count": null,
   "id": "235af738-38f1-4351-a95b-146a409b9725",
   "metadata": {},
   "outputs": [],
   "source": []
  },
  {
   "cell_type": "code",
   "execution_count": null,
   "id": "71c4aada-e703-40ee-bfc7-2efc26c4b0b3",
   "metadata": {},
   "outputs": [],
   "source": []
  },
  {
   "cell_type": "code",
   "execution_count": null,
   "id": "1d8fee76-68e0-48b8-baf8-df6cbbfe0f9d",
   "metadata": {},
   "outputs": [],
   "source": []
  },
  {
   "cell_type": "code",
   "execution_count": null,
   "id": "31f229d5-e2fe-4eaa-9840-30f9fd0ab4d3",
   "metadata": {},
   "outputs": [],
   "source": []
  },
  {
   "cell_type": "code",
   "execution_count": null,
   "id": "1634aaf2-c73a-4614-9abc-8026c5fdc0ac",
   "metadata": {},
   "outputs": [],
   "source": []
  }
 ],
 "metadata": {
  "kernelspec": {
   "display_name": "Python [conda env:base] *",
   "language": "python",
   "name": "conda-base-py"
  },
  "language_info": {
   "codemirror_mode": {
    "name": "ipython",
    "version": 3
   },
   "file_extension": ".py",
   "mimetype": "text/x-python",
   "name": "python",
   "nbconvert_exporter": "python",
   "pygments_lexer": "ipython3",
   "version": "3.12.7"
  }
 },
 "nbformat": 4,
 "nbformat_minor": 5
}
